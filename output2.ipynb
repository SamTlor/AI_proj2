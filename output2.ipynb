{
 "cells": [
  {
   "cell_type": "markdown",
   "id": "ac33eda7",
   "metadata": {
    "tags": [
     "papermill-error-cell-tag"
    ]
   },
   "source": [
    "<span style=\"color:red; font-family:Helvetica Neue, Helvetica, Arial, sans-serif; font-size:2em;\">An Exception was encountered at '<a href=\"#papermill-error-cell\">In [4]</a>'.</span>"
   ]
  },
  {
   "cell_type": "code",
   "execution_count": 1,
   "id": "0403fa9d",
   "metadata": {
    "execution": {
     "iopub.execute_input": "2023-10-06T15:16:58.083022Z",
     "iopub.status.busy": "2023-10-06T15:16:58.082788Z",
     "iopub.status.idle": "2023-10-06T15:16:58.714297Z",
     "shell.execute_reply": "2023-10-06T15:16:58.714019Z"
    },
    "papermill": {
     "duration": 0.635932,
     "end_time": "2023-10-06T15:16:58.715340",
     "exception": false,
     "start_time": "2023-10-06T15:16:58.079408",
     "status": "completed"
    },
    "tags": []
   },
   "outputs": [],
   "source": [
    "import pandas as pd\n",
    "import numpy as np\n",
    "import random, time\n",
    "import matplotlib.pyplot as plt"
   ]
  },
  {
   "cell_type": "code",
   "execution_count": 2,
   "id": "b5d0d9da",
   "metadata": {
    "execution": {
     "iopub.execute_input": "2023-10-06T15:16:58.717521Z",
     "iopub.status.busy": "2023-10-06T15:16:58.717378Z",
     "iopub.status.idle": "2023-10-06T15:16:58.719441Z",
     "shell.execute_reply": "2023-10-06T15:16:58.719216Z"
    },
    "papermill": {
     "duration": 0.003927,
     "end_time": "2023-10-06T15:16:58.720206",
     "exception": false,
     "start_time": "2023-10-06T15:16:58.716279",
     "status": "completed"
    },
    "tags": []
   },
   "outputs": [],
   "source": [
    "def norm(dataset):\n",
    "    for column_index in range(dataset.shape[1] - 1):\n",
    "        max_val = dataset[column_index].max()\n",
    "        min_val = dataset[column_index].min()\n",
    "\n",
    "        dataset[column_index] = (dataset[column_index] - min_val) / (max_val - min_val)"
   ]
  },
  {
   "cell_type": "code",
   "execution_count": 3,
   "id": "e3b1a321",
   "metadata": {
    "execution": {
     "iopub.execute_input": "2023-10-06T15:16:58.721927Z",
     "iopub.status.busy": "2023-10-06T15:16:58.721812Z",
     "iopub.status.idle": "2023-10-06T15:16:58.727114Z",
     "shell.execute_reply": "2023-10-06T15:16:58.726849Z"
    },
    "papermill": {
     "duration": 0.007144,
     "end_time": "2023-10-06T15:16:58.727969",
     "exception": false,
     "start_time": "2023-10-06T15:16:58.720825",
     "status": "completed"
    },
    "tags": []
   },
   "outputs": [],
   "source": [
    "def predict(w, x):\n",
    "    scaled_x = np.dot(w, x)\n",
    "    if scaled_x > 0:\n",
    "        return 1\n",
    "    else:\n",
    "        return 0\n",
    "\n",
    "# get accuracy, confusion matrices and rates\n",
    "def train(dataset, split, error_threshold, alpha):\n",
    "        \n",
    "    #splitting into training and testing data\n",
    "    group0 = dataset[dataset.iloc[:, 2] == 0]\n",
    "    group1 = dataset[dataset.iloc[:, 2] == 1]\n",
    "    sample_size = int(min(len(group0), len(group1)) * split)\n",
    "    sampled_subset0 = group0.sample(n = sample_size, random_state = 42)\n",
    "    sampled_subset1 = group1.sample(n = sample_size, random_state = 42)\n",
    "    training = pd.concat([sampled_subset0, sampled_subset1])\n",
    "    testing = dataset.drop(training.index)   \n",
    "    \n",
    "    \n",
    "    \n",
    "    #initialization stuff\n",
    "    limit = 5000\n",
    "    patterns = training.shape[0]\n",
    "    w = [random.uniform(-0.5, 0.5) for _ in range(training.shape[1])]\n",
    "    \n",
    "    \n",
    "    \n",
    "    #training \n",
    "    i = 0\n",
    "    error = patterns\n",
    "    #while i is less than 5000 or it is not accurate enough\n",
    "    while i < limit and error > error_threshold:\n",
    "        #the error in this iteration of the neuron\n",
    "        error = 0\n",
    "        \n",
    "        for row in range(patterns):\n",
    "            x = training.iloc[row].values\n",
    "            scaled_x = predict(w, x)\n",
    "                \n",
    "            #for total error sum[(out - desired)^2]. (-1)^2 = 1 and 1^2 = 1 so += 1 when they're different\n",
    "            if x[2] != scaled_x:\n",
    "                error += 1\n",
    "                \n",
    "            delta_weight = alpha * (x[2] - scaled_x)\n",
    "            delta_weighted_x = x * delta_weight\n",
    "            w = np.array(w) + np.array(delta_weighted_x)\n",
    "        i += 1\n",
    "    \n",
    "    print(i)\n",
    "    print(f\"Total error in training is: {error}\")\n",
    "    \n",
    "    \n",
    "    \n",
    "    #testing\n",
    "    true_positive = false_positive = true_negative = false_negative = 0\n",
    "    for row in range(testing.shape[0]):\n",
    "        x = testing.iloc[row].values\n",
    "        predicted = predict(w, x)\n",
    "        true = x[2]\n",
    "        \n",
    "        if predicted == 1 and true == 1:\n",
    "            true_positive += 1\n",
    "        elif predicted == 1 and true == 0:\n",
    "            false_positive += 1\n",
    "        elif predicted == 0 and true == 1:\n",
    "            false_negative += 1\n",
    "        else:\n",
    "            true_negative += 1\n",
    "    \n",
    "    accuracy = (true_positive + true_negative) / testing.shape[0]\n",
    "    true_positive_rate = true_positive / (true_positive + false_positive)\n",
    "    false_positive_rate = false_positive / (true_positive + false_positive)\n",
    "    true_negative_rate = true_negative / (true_negative + false_negative)\n",
    "    false_negative_rate = false_negative / (true_negative + false_negative)\n",
    "    \n",
    "    print(f\"true positive: {true_positive}\\nrate: {true_positive_rate}\\n\\n\")\n",
    "    print(f\"false positive: {false_positive}\\nrate: {false_positive_rate}\\n\\n\")\n",
    "    print(f\"true negative: {true_negative}\\nrate: {true_negative_rate}\\n\\n\")\n",
    "    print(f\"false negative: {false_negative}\\nrate: {false_negative_rate}\\n\\n\")\n",
    "    print(f\"accuracy: {accuracy}\")\n",
    "\n",
    "    return w"
   ]
  },
  {
   "cell_type": "markdown",
   "id": "4afe03a9",
   "metadata": {
    "tags": [
     "papermill-error-cell-tag"
    ]
   },
   "source": [
    "<span id=\"papermill-error-cell\" style=\"color:red; font-family:Helvetica Neue, Helvetica, Arial, sans-serif; font-size:2em;\">Execution using papermill encountered an exception here and stopped:</span>"
   ]
  },
  {
   "cell_type": "code",
   "execution_count": 4,
   "id": "d3589a98",
   "metadata": {
    "execution": {
     "iopub.execute_input": "2023-10-06T15:16:58.729897Z",
     "iopub.status.busy": "2023-10-06T15:16:58.729798Z",
     "iopub.status.idle": "2023-10-06T15:16:58.892494Z",
     "shell.execute_reply": "2023-10-06T15:16:58.892077Z"
    },
    "papermill": {
     "duration": 0.164588,
     "end_time": "2023-10-06T15:16:58.893306",
     "exception": true,
     "start_time": "2023-10-06T15:16:58.728718",
     "status": "failed"
    },
    "tags": []
   },
   "outputs": [
    {
     "ename": "NameError",
     "evalue": "name 'training' is not defined",
     "output_type": "error",
     "traceback": [
      "\u001b[0;31m---------------------------------------------------------------------------\u001b[0m",
      "\u001b[0;31mNameError\u001b[0m                                 Traceback (most recent call last)",
      "Cell \u001b[0;32mIn[4], line 25\u001b[0m\n\u001b[1;32m     22\u001b[0m plt\u001b[38;5;241m.\u001b[39mfigure()\n\u001b[1;32m     24\u001b[0m   \u001b[38;5;66;03m# Plotting training data\u001b[39;00m\n\u001b[0;32m---> 25\u001b[0m plt\u001b[38;5;241m.\u001b[39mscatter(\u001b[43mtraining\u001b[49m[training\u001b[38;5;241m.\u001b[39miloc[:,\u001b[38;5;241m2\u001b[39m]\u001b[38;5;241m==\u001b[39m\u001b[38;5;241m0\u001b[39m]\u001b[38;5;241m.\u001b[39miloc[:,\u001b[38;5;241m0\u001b[39m], training[training\u001b[38;5;241m.\u001b[39miloc[:,\u001b[38;5;241m2\u001b[39m]\u001b[38;5;241m==\u001b[39m\u001b[38;5;241m0\u001b[39m]\u001b[38;5;241m.\u001b[39miloc[:,\u001b[38;5;241m1\u001b[39m], label\u001b[38;5;241m=\u001b[39m\u001b[38;5;124m'\u001b[39m\u001b[38;5;124mClass 0 - Training\u001b[39m\u001b[38;5;124m'\u001b[39m, alpha\u001b[38;5;241m=\u001b[39m\u001b[38;5;241m0.6\u001b[39m)\n\u001b[1;32m     26\u001b[0m plt\u001b[38;5;241m.\u001b[39mscatter(training[training\u001b[38;5;241m.\u001b[39miloc[:,\u001b[38;5;241m2\u001b[39m]\u001b[38;5;241m==\u001b[39m\u001b[38;5;241m1\u001b[39m]\u001b[38;5;241m.\u001b[39miloc[:,\u001b[38;5;241m0\u001b[39m], training[training\u001b[38;5;241m.\u001b[39miloc[:,\u001b[38;5;241m2\u001b[39m]\u001b[38;5;241m==\u001b[39m\u001b[38;5;241m1\u001b[39m]\u001b[38;5;241m.\u001b[39miloc[:,\u001b[38;5;241m1\u001b[39m], label\u001b[38;5;241m=\u001b[39m\u001b[38;5;124m'\u001b[39m\u001b[38;5;124mClass 1 - Training\u001b[39m\u001b[38;5;124m'\u001b[39m, alpha\u001b[38;5;241m=\u001b[39m\u001b[38;5;241m0.6\u001b[39m)\n\u001b[1;32m     28\u001b[0m \u001b[38;5;66;03m# Plotting testing data\u001b[39;00m\n",
      "\u001b[0;31mNameError\u001b[0m: name 'training' is not defined"
     ]
    },
    {
     "data": {
      "text/plain": [
       "<Figure size 640x480 with 0 Axes>"
      ]
     },
     "metadata": {},
     "output_type": "display_data"
    }
   ],
   "source": [
    "#read the datasets\n",
    "a = pd.read_csv(\"groupA.csv\", header = None)\n",
    "b = pd.read_csv(\"groupB.csv\", header = None)\n",
    "c = pd.read_csv(\"groupC.csv\", header = None)\n",
    "\n",
    "\n",
    "\n",
    "#convert to numeric\n",
    "for col in a.columns:\n",
    "    a[col] = a[col].apply(pd.to_numeric, errors = 'coerce')\n",
    "    b[col] = b[col].apply(pd.to_numeric, errors = 'coerce')\n",
    "    c[col] = c[col].apply(pd.to_numeric, errors = 'coerce')\n",
    "    \n",
    "    \n",
    "\n",
    "#normalize the data\n",
    "norm(a)\n",
    "norm(b)\n",
    "norm(c)\n",
    "\n",
    "#matplotlib graphs\n",
    "plt.figure()\n",
    "\n",
    "  # Plotting training data\n",
    "plt.scatter(training[training.iloc[:,2]==0].iloc[:,0], training[training.iloc[:,2]==0].iloc[:,1], label='Class 0 - Training', alpha=0.6)\n",
    "plt.scatter(training[training.iloc[:,2]==1].iloc[:,0], training[training.iloc[:,2]==1].iloc[:,1], label='Class 1 - Training', alpha=0.6)\n",
    "\n",
    "# Plotting testing data\n",
    "plt.scatter(testing[testing.iloc[:,2]==0].iloc[:,0], testing[testing.iloc[:,2]==0].iloc[:,1], label='Class 0 - Testing', alpha=0.6, marker='x')\n",
    "plt.scatter(testing[testing.iloc[:,2]==1].iloc[:,0], testing[testing.iloc[:,2]==1].iloc[:,1], label='Class 1 - Testing', alpha=0.6, marker='x')\n",
    "\n",
    "# Plotting decision boundary\n",
    "# For a 2D dataset, the decision boundary is a line: ax + by + c = 0 => y = (-c - ax) / b\n",
    "x = np.linspace(training.iloc[:,0].min(), training.iloc[:,0].max(), 400)\n",
    "y = (-w[2] - w[0]*x) / w[1]\n",
    "plt.plot(x, y, label='Decision Boundary')\n",
    "\n",
    "plt.legend()\n",
    "plt.xlabel('Feature 1')\n",
    "plt.ylabel('Feature 2')\n",
    "plt.title('Data and Decision Boundary')\n",
    "plt.grid(True)\n",
    "plt.show()\n",
    "\n",
    "\n",
    "\n",
    "\n",
    "\n",
    "\n",
    "\n",
    "\n",
    "#soft activation\n",
    "print(train(a, 3/4, 0.00001, 0.01))\n",
    "print(train(a, 1/4, 0.00001, 0.01))\n",
    "\n",
    "print(train(b, 3/4, 40, 0.01))\n",
    "print(train(b, 1/4, 40, 0.01))\n",
    "\n",
    "print(train(c, 3/4, 700, 0.01))\n",
    "print(train(c, 1/4, 700, 0.01))\n",
    "\n",
    "\n",
    "\n",
    "\n",
    "\n",
    "# #hard activation\n",
    "# print(train(a, 3/4, 0.00001, 0.1))\n",
    "# print(train(a, 1/4, 0.00001, 0.1))\n",
    "\n",
    "# print(train(b, 3/4, 40, 0.1))\n",
    "# print(train(b, 1/4, 40, 0.1))\n",
    "\n",
    "# print(train(c, 3/4, 700, 0.1))\n",
    "# print(train(c, 1/4, 700, 0.1))\n",
    "\n",
    "\n",
    "\n",
    "\n",
    "\n",
    "\n",
    "\n",
    "\n",
    "# matplotlib stuff here? store the values of the weight, plot the data, draw the division line\n",
    "# train() function can print the accuracy and confusion matrices\n",
    "# maybe?"
   ]
  }
 ],
 "metadata": {
  "kernelspec": {
   "display_name": "Python 3",
   "language": "python",
   "name": "python3"
  },
  "language_info": {
   "codemirror_mode": {
    "name": "ipython",
    "version": 3
   },
   "file_extension": ".py",
   "mimetype": "text/x-python",
   "name": "python",
   "nbconvert_exporter": "python",
   "pygments_lexer": "ipython3",
   "version": "3.11.3"
  },
  "papermill": {
   "default_parameters": {},
   "duration": 2.048466,
   "end_time": "2023-10-06T15:16:59.111029",
   "environment_variables": {},
   "exception": true,
   "input_path": "output.ipynb",
   "output_path": "output2.ipynb",
   "parameters": {},
   "start_time": "2023-10-06T15:16:57.062563",
   "version": "2.4.0"
  }
 },
 "nbformat": 4,
 "nbformat_minor": 5
}